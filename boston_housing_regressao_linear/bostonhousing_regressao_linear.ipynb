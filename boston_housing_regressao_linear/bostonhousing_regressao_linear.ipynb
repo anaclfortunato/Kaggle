{
 "cells": [
  {
   "cell_type": "markdown",
   "id": "9d878d6a",
   "metadata": {
    "papermill": {
     "duration": 0.010551,
     "end_time": "2022-12-17T18:45:51.286600",
     "exception": false,
     "start_time": "2022-12-17T18:45:51.276049",
     "status": "completed"
    },
    "tags": []
   },
   "source": [
    "# Boston Housing \n",
    "\n",
    "    Prevendo valores de moradias nos subúrbios de Boston com Regressão Linear  \n",
    "\n",
    "https://www.kaggle.com/datasets/schirmerchad/bostonhoustingmlnd"
   ]
  },
  {
   "cell_type": "markdown",
   "id": "50a824cf",
   "metadata": {
    "papermill": {
     "duration": 0.008583,
     "end_time": "2022-12-17T18:45:51.305188",
     "exception": false,
     "start_time": "2022-12-17T18:45:51.296605",
     "status": "completed"
    },
    "tags": []
   },
   "source": [
    "### Contexto \n",
    "\n",
    "O conjunto de dados para este projeto é originário do UCI Machine Learning Repository. Os dados habitacionais de Boston foram coletados em 1978 e cada uma das 506 entradas representa dados agregados sobre 14 características de residências de vários subúrbios de Boston, Massachusetts.\n",
    "\n",
    "Este dataset modificado consiste em 489 entradas com 4 colunas, sendo 3 variáveis explicativas e 1 variável resposta."
   ]
  },
  {
   "cell_type": "markdown",
   "id": "48428324",
   "metadata": {
    "papermill": {
     "duration": 0.008708,
     "end_time": "2022-12-17T18:45:51.323304",
     "exception": false,
     "start_time": "2022-12-17T18:45:51.314596",
     "status": "completed"
    },
    "tags": []
   },
   "source": [
    "### Conteúdo\n",
    "\n",
    "*Features*\n",
    "* RM: número médio de quartos por habitação\n",
    "* LSTAT: porcentagem da população considerada de status inferior\n",
    "* PTRATIO: relação aluno-professor por município\n",
    "\n",
    "*Target*\n",
    "* MEDV: valor médio de casas ocupadas pelos proprietários"
   ]
  },
  {
   "cell_type": "code",
   "execution_count": 1,
   "id": "59b1b2e1",
   "metadata": {
    "execution": {
     "iopub.execute_input": "2022-12-17T18:45:51.343781Z",
     "iopub.status.busy": "2022-12-17T18:45:51.343149Z",
     "iopub.status.idle": "2022-12-17T18:45:52.304563Z",
     "shell.execute_reply": "2022-12-17T18:45:52.303370Z"
    },
    "papermill": {
     "duration": 0.975282,
     "end_time": "2022-12-17T18:45:52.307568",
     "exception": false,
     "start_time": "2022-12-17T18:45:51.332286",
     "status": "completed"
    },
    "tags": []
   },
   "outputs": [],
   "source": [
    "# Importação das bibliotecas\n",
    "import numpy as np\n",
    "import pandas as pd\n",
    "import matplotlib.pyplot as plt\n",
    "import seaborn as sns\n",
    "%matplotlib inline\n",
    "\n",
    "import warnings \n",
    "warnings.filterwarnings('ignore')"
   ]
  },
  {
   "cell_type": "code",
   "execution_count": 2,
   "id": "c0a9c422",
   "metadata": {
    "execution": {
     "iopub.execute_input": "2022-12-17T18:45:52.330175Z",
     "iopub.status.busy": "2022-12-17T18:45:52.329256Z",
     "iopub.status.idle": "2022-12-17T18:45:52.340379Z",
     "shell.execute_reply": "2022-12-17T18:45:52.339254Z"
    },
    "papermill": {
     "duration": 0.024271,
     "end_time": "2022-12-17T18:45:52.343208",
     "exception": false,
     "start_time": "2022-12-17T18:45:52.318937",
     "status": "completed"
    },
    "tags": []
   },
   "outputs": [
    {
     "name": "stdout",
     "output_type": "stream",
     "text": [
      "/kaggle/input/bostonhoustingmlnd/housing.csv\n"
     ]
    }
   ],
   "source": [
    "# Como importar dataset local do Kaggle\n",
    "import os\n",
    "for dirname, _, filenames in os.walk('/kaggle/input'):\n",
    "    for filename in filenames:\n",
    "        print(os.path.join(dirname, filename))"
   ]
  },
  {
   "cell_type": "code",
   "execution_count": 3,
   "id": "cabeb57e",
   "metadata": {
    "execution": {
     "iopub.execute_input": "2022-12-17T18:45:52.363409Z",
     "iopub.status.busy": "2022-12-17T18:45:52.362610Z",
     "iopub.status.idle": "2022-12-17T18:45:52.397610Z",
     "shell.execute_reply": "2022-12-17T18:45:52.396452Z"
    },
    "papermill": {
     "duration": 0.047616,
     "end_time": "2022-12-17T18:45:52.400025",
     "exception": false,
     "start_time": "2022-12-17T18:45:52.352409",
     "status": "completed"
    },
    "tags": []
   },
   "outputs": [
    {
     "data": {
      "text/html": [
       "<div>\n",
       "<style scoped>\n",
       "    .dataframe tbody tr th:only-of-type {\n",
       "        vertical-align: middle;\n",
       "    }\n",
       "\n",
       "    .dataframe tbody tr th {\n",
       "        vertical-align: top;\n",
       "    }\n",
       "\n",
       "    .dataframe thead th {\n",
       "        text-align: right;\n",
       "    }\n",
       "</style>\n",
       "<table border=\"1\" class=\"dataframe\">\n",
       "  <thead>\n",
       "    <tr style=\"text-align: right;\">\n",
       "      <th></th>\n",
       "      <th>RM</th>\n",
       "      <th>LSTAT</th>\n",
       "      <th>PTRATIO</th>\n",
       "      <th>MEDV</th>\n",
       "    </tr>\n",
       "  </thead>\n",
       "  <tbody>\n",
       "    <tr>\n",
       "      <th>0</th>\n",
       "      <td>6.575</td>\n",
       "      <td>4.98</td>\n",
       "      <td>15.3</td>\n",
       "      <td>504000.0</td>\n",
       "    </tr>\n",
       "    <tr>\n",
       "      <th>1</th>\n",
       "      <td>6.421</td>\n",
       "      <td>9.14</td>\n",
       "      <td>17.8</td>\n",
       "      <td>453600.0</td>\n",
       "    </tr>\n",
       "    <tr>\n",
       "      <th>2</th>\n",
       "      <td>7.185</td>\n",
       "      <td>4.03</td>\n",
       "      <td>17.8</td>\n",
       "      <td>728700.0</td>\n",
       "    </tr>\n",
       "    <tr>\n",
       "      <th>3</th>\n",
       "      <td>6.998</td>\n",
       "      <td>2.94</td>\n",
       "      <td>18.7</td>\n",
       "      <td>701400.0</td>\n",
       "    </tr>\n",
       "    <tr>\n",
       "      <th>4</th>\n",
       "      <td>7.147</td>\n",
       "      <td>5.33</td>\n",
       "      <td>18.7</td>\n",
       "      <td>760200.0</td>\n",
       "    </tr>\n",
       "    <tr>\n",
       "      <th>...</th>\n",
       "      <td>...</td>\n",
       "      <td>...</td>\n",
       "      <td>...</td>\n",
       "      <td>...</td>\n",
       "    </tr>\n",
       "    <tr>\n",
       "      <th>484</th>\n",
       "      <td>6.593</td>\n",
       "      <td>9.67</td>\n",
       "      <td>21.0</td>\n",
       "      <td>470400.0</td>\n",
       "    </tr>\n",
       "    <tr>\n",
       "      <th>485</th>\n",
       "      <td>6.120</td>\n",
       "      <td>9.08</td>\n",
       "      <td>21.0</td>\n",
       "      <td>432600.0</td>\n",
       "    </tr>\n",
       "    <tr>\n",
       "      <th>486</th>\n",
       "      <td>6.976</td>\n",
       "      <td>5.64</td>\n",
       "      <td>21.0</td>\n",
       "      <td>501900.0</td>\n",
       "    </tr>\n",
       "    <tr>\n",
       "      <th>487</th>\n",
       "      <td>6.794</td>\n",
       "      <td>6.48</td>\n",
       "      <td>21.0</td>\n",
       "      <td>462000.0</td>\n",
       "    </tr>\n",
       "    <tr>\n",
       "      <th>488</th>\n",
       "      <td>6.030</td>\n",
       "      <td>7.88</td>\n",
       "      <td>21.0</td>\n",
       "      <td>249900.0</td>\n",
       "    </tr>\n",
       "  </tbody>\n",
       "</table>\n",
       "<p>489 rows × 4 columns</p>\n",
       "</div>"
      ],
      "text/plain": [
       "        RM  LSTAT  PTRATIO      MEDV\n",
       "0    6.575   4.98     15.3  504000.0\n",
       "1    6.421   9.14     17.8  453600.0\n",
       "2    7.185   4.03     17.8  728700.0\n",
       "3    6.998   2.94     18.7  701400.0\n",
       "4    7.147   5.33     18.7  760200.0\n",
       "..     ...    ...      ...       ...\n",
       "484  6.593   9.67     21.0  470400.0\n",
       "485  6.120   9.08     21.0  432600.0\n",
       "486  6.976   5.64     21.0  501900.0\n",
       "487  6.794   6.48     21.0  462000.0\n",
       "488  6.030   7.88     21.0  249900.0\n",
       "\n",
       "[489 rows x 4 columns]"
      ]
     },
     "execution_count": 3,
     "metadata": {},
     "output_type": "execute_result"
    }
   ],
   "source": [
    "# Importando dataset \n",
    "boston = pd.read_csv('/kaggle/input/bostonhoustingmlnd/housing.csv')\n",
    "boston"
   ]
  },
  {
   "cell_type": "markdown",
   "id": "110aae63",
   "metadata": {
    "papermill": {
     "duration": 0.008958,
     "end_time": "2022-12-17T18:45:52.418458",
     "exception": false,
     "start_time": "2022-12-17T18:45:52.409500",
     "status": "completed"
    },
    "tags": []
   },
   "source": [
    "## Análise Exploratória\n",
    "\n",
    "Inicialmente gerar as entradas e saídas do dataframe para ter conhecimento sobre como os dados estão estruturados."
   ]
  },
  {
   "cell_type": "code",
   "execution_count": 4,
   "id": "a578ad1b",
   "metadata": {
    "execution": {
     "iopub.execute_input": "2022-12-17T18:45:52.439678Z",
     "iopub.status.busy": "2022-12-17T18:45:52.438702Z",
     "iopub.status.idle": "2022-12-17T18:45:52.482627Z",
     "shell.execute_reply": "2022-12-17T18:45:52.481201Z"
    },
    "papermill": {
     "duration": 0.057017,
     "end_time": "2022-12-17T18:45:52.485083",
     "exception": false,
     "start_time": "2022-12-17T18:45:52.428066",
     "status": "completed"
    },
    "tags": []
   },
   "outputs": [
    {
     "name": "stdout",
     "output_type": "stream",
     "text": [
      "<class 'pandas.core.frame.DataFrame'>\n",
      "RangeIndex: 489 entries, 0 to 488\n",
      "Data columns (total 4 columns):\n",
      " #   Column   Non-Null Count  Dtype  \n",
      "---  ------   --------------  -----  \n",
      " 0   RM       489 non-null    float64\n",
      " 1   LSTAT    489 non-null    float64\n",
      " 2   PTRATIO  489 non-null    float64\n",
      " 3   MEDV     489 non-null    float64\n",
      "dtypes: float64(4)\n",
      "memory usage: 15.4 KB\n"
     ]
    },
    {
     "data": {
      "text/html": [
       "<div>\n",
       "<style scoped>\n",
       "    .dataframe tbody tr th:only-of-type {\n",
       "        vertical-align: middle;\n",
       "    }\n",
       "\n",
       "    .dataframe tbody tr th {\n",
       "        vertical-align: top;\n",
       "    }\n",
       "\n",
       "    .dataframe thead th {\n",
       "        text-align: right;\n",
       "    }\n",
       "</style>\n",
       "<table border=\"1\" class=\"dataframe\">\n",
       "  <thead>\n",
       "    <tr style=\"text-align: right;\">\n",
       "      <th></th>\n",
       "      <th>RM</th>\n",
       "      <th>LSTAT</th>\n",
       "      <th>PTRATIO</th>\n",
       "      <th>MEDV</th>\n",
       "    </tr>\n",
       "  </thead>\n",
       "  <tbody>\n",
       "    <tr>\n",
       "      <th>count</th>\n",
       "      <td>489.000000</td>\n",
       "      <td>489.000000</td>\n",
       "      <td>489.000000</td>\n",
       "      <td>4.890000e+02</td>\n",
       "    </tr>\n",
       "    <tr>\n",
       "      <th>mean</th>\n",
       "      <td>6.240288</td>\n",
       "      <td>12.939632</td>\n",
       "      <td>18.516564</td>\n",
       "      <td>4.543429e+05</td>\n",
       "    </tr>\n",
       "    <tr>\n",
       "      <th>std</th>\n",
       "      <td>0.643650</td>\n",
       "      <td>7.081990</td>\n",
       "      <td>2.111268</td>\n",
       "      <td>1.653403e+05</td>\n",
       "    </tr>\n",
       "    <tr>\n",
       "      <th>min</th>\n",
       "      <td>3.561000</td>\n",
       "      <td>1.980000</td>\n",
       "      <td>12.600000</td>\n",
       "      <td>1.050000e+05</td>\n",
       "    </tr>\n",
       "    <tr>\n",
       "      <th>25%</th>\n",
       "      <td>5.880000</td>\n",
       "      <td>7.370000</td>\n",
       "      <td>17.400000</td>\n",
       "      <td>3.507000e+05</td>\n",
       "    </tr>\n",
       "    <tr>\n",
       "      <th>50%</th>\n",
       "      <td>6.185000</td>\n",
       "      <td>11.690000</td>\n",
       "      <td>19.100000</td>\n",
       "      <td>4.389000e+05</td>\n",
       "    </tr>\n",
       "    <tr>\n",
       "      <th>75%</th>\n",
       "      <td>6.575000</td>\n",
       "      <td>17.120000</td>\n",
       "      <td>20.200000</td>\n",
       "      <td>5.187000e+05</td>\n",
       "    </tr>\n",
       "    <tr>\n",
       "      <th>max</th>\n",
       "      <td>8.398000</td>\n",
       "      <td>37.970000</td>\n",
       "      <td>22.000000</td>\n",
       "      <td>1.024800e+06</td>\n",
       "    </tr>\n",
       "  </tbody>\n",
       "</table>\n",
       "</div>"
      ],
      "text/plain": [
       "               RM       LSTAT     PTRATIO          MEDV\n",
       "count  489.000000  489.000000  489.000000  4.890000e+02\n",
       "mean     6.240288   12.939632   18.516564  4.543429e+05\n",
       "std      0.643650    7.081990    2.111268  1.653403e+05\n",
       "min      3.561000    1.980000   12.600000  1.050000e+05\n",
       "25%      5.880000    7.370000   17.400000  3.507000e+05\n",
       "50%      6.185000   11.690000   19.100000  4.389000e+05\n",
       "75%      6.575000   17.120000   20.200000  5.187000e+05\n",
       "max      8.398000   37.970000   22.000000  1.024800e+06"
      ]
     },
     "execution_count": 4,
     "metadata": {},
     "output_type": "execute_result"
    }
   ],
   "source": [
    "boston.info()\n",
    "boston.describe()"
   ]
  },
  {
   "cell_type": "markdown",
   "id": "b1276a8b",
   "metadata": {
    "papermill": {
     "duration": 0.009781,
     "end_time": "2022-12-17T18:45:52.504590",
     "exception": false,
     "start_time": "2022-12-17T18:45:52.494809",
     "status": "completed"
    },
    "tags": []
   },
   "source": [
    "O método **.info()** retorna um resumo conciso do dataframe, permitindo identificar o tipo da variável em cada coluna. Já o método **.describe()** retorna diferentes características das colunas numéricas do dataframe (distribuições estatísticas).\n",
    "\n",
    "Aqui já podemos observar que não há missing values e aparentemente não há muitos valores destoantes no conjunto de dados, porém podemos confirmar com os métodos .isnull() e gráfico boxplot. "
   ]
  },
  {
   "cell_type": "code",
   "execution_count": 5,
   "id": "9b423af6",
   "metadata": {
    "execution": {
     "iopub.execute_input": "2022-12-17T18:45:52.525769Z",
     "iopub.status.busy": "2022-12-17T18:45:52.525051Z",
     "iopub.status.idle": "2022-12-17T18:45:52.534393Z",
     "shell.execute_reply": "2022-12-17T18:45:52.533275Z"
    },
    "papermill": {
     "duration": 0.022653,
     "end_time": "2022-12-17T18:45:52.536892",
     "exception": false,
     "start_time": "2022-12-17T18:45:52.514239",
     "status": "completed"
    },
    "tags": []
   },
   "outputs": [
    {
     "data": {
      "text/plain": [
       "RM         0\n",
       "LSTAT      0\n",
       "PTRATIO    0\n",
       "MEDV       0\n",
       "dtype: int64"
      ]
     },
     "execution_count": 5,
     "metadata": {},
     "output_type": "execute_result"
    }
   ],
   "source": [
    "boston.isnull().sum()"
   ]
  },
  {
   "cell_type": "code",
   "execution_count": 6,
   "id": "29fdb3db",
   "metadata": {
    "execution": {
     "iopub.execute_input": "2022-12-17T18:45:52.559177Z",
     "iopub.status.busy": "2022-12-17T18:45:52.558778Z",
     "iopub.status.idle": "2022-12-17T18:45:52.838921Z",
     "shell.execute_reply": "2022-12-17T18:45:52.837715Z"
    },
    "papermill": {
     "duration": 0.293893,
     "end_time": "2022-12-17T18:45:52.841529",
     "exception": false,
     "start_time": "2022-12-17T18:45:52.547636",
     "status": "completed"
    },
    "tags": []
   },
   "outputs": [
    {
     "data": {
      "text/plain": [
       "<AxesSubplot:>"
      ]
     },
     "execution_count": 6,
     "metadata": {},
     "output_type": "execute_result"
    },
    {
     "data": {
      "image/png": "[encoded data removed]",
      "text/plain": [
       "<Figure size 1152x432 with 1 Axes>"
      ]
     },
     "metadata": {
      "needs_background": "light"
     },
     "output_type": "display_data"
    }
   ],
   "source": [
    "plt.figure(figsize = (16,6))\n",
    "sns.boxplot(data = boston)"
   ]
  },
  {
   "cell_type": "markdown",
   "id": "707e2fb9",
   "metadata": {
    "papermill": {
     "duration": 0.010379,
     "end_time": "2022-12-17T18:45:52.862271",
     "exception": false,
     "start_time": "2022-12-17T18:45:52.851892",
     "status": "completed"
    },
    "tags": []
   },
   "source": [
    "Confirmamos que não há missing values no dataset, porém outliers há alguns, mas nada que precise ser tratado e altere a análise dos dados. "
   ]
  },
  {
   "cell_type": "markdown",
   "id": "5796def2",
   "metadata": {
    "papermill": {
     "duration": 0.010001,
     "end_time": "2022-12-17T18:45:52.882741",
     "exception": false,
     "start_time": "2022-12-17T18:45:52.872740",
     "status": "completed"
    },
    "tags": []
   },
   "source": [
    "#### Distribuição da variável target "
   ]
  },
  {
   "cell_type": "code",
   "execution_count": 7,
   "id": "5f470ab1",
   "metadata": {
    "execution": {
     "iopub.execute_input": "2022-12-17T18:45:52.905718Z",
     "iopub.status.busy": "2022-12-17T18:45:52.904967Z",
     "iopub.status.idle": "2022-12-17T18:45:53.341802Z",
     "shell.execute_reply": "2022-12-17T18:45:53.340614Z"
    },
    "papermill": {
     "duration": 0.451062,
     "end_time": "2022-12-17T18:45:53.344224",
     "exception": false,
     "start_time": "2022-12-17T18:45:52.893162",
     "status": "completed"
    },
    "tags": []
   },
   "outputs": [
    {
     "data": {
      "image/png": "[encoded data removed]",
      "text/plain": [
       "<Figure size 1440x1080 with 1 Axes>"
      ]
     },
     "metadata": {},
     "output_type": "display_data"
    }
   ],
   "source": [
    "sns.set(rc={'figure.figsize':(20, 15)})\n",
    "sns.distplot(boston['MEDV'], bins=40)\n",
    "plt.show()"
   ]
  },
  {
   "cell_type": "code",
   "execution_count": 8,
   "id": "14d3bccd",
   "metadata": {
    "execution": {
     "iopub.execute_input": "2022-12-17T18:45:53.367991Z",
     "iopub.status.busy": "2022-12-17T18:45:53.367592Z",
     "iopub.status.idle": "2022-12-17T18:45:53.378351Z",
     "shell.execute_reply": "2022-12-17T18:45:53.377001Z"
    },
    "papermill": {
     "duration": 0.02616,
     "end_time": "2022-12-17T18:45:53.381529",
     "exception": false,
     "start_time": "2022-12-17T18:45:53.355369",
     "status": "completed"
    },
    "tags": []
   },
   "outputs": [
    {
     "name": "stdout",
     "output_type": "stream",
     "text": [
      "0.10    266700.0\n",
      "0.25    350700.0\n",
      "0.50    438900.0\n",
      "0.75    518700.0\n",
      "0.99    954912.0\n",
      "Name: MEDV, dtype: float64\n"
     ]
    }
   ],
   "source": [
    "print(boston['MEDV'].quantile([.1, .25, .5, .75, .99]))"
   ]
  },
  {
   "cell_type": "markdown",
   "id": "b762a5a0",
   "metadata": {
    "papermill": {
     "duration": 0.012759,
     "end_time": "2022-12-17T18:45:53.405551",
     "exception": false,
     "start_time": "2022-12-17T18:45:53.392792",
     "status": "completed"
    },
    "tags": []
   },
   "source": [
    "O gráfico mostra como os valores destoantes que observamos anteriormente no boxplot estão distribuídos em relação aos outros valores. "
   ]
  },
  {
   "cell_type": "markdown",
   "id": "866ed8d2",
   "metadata": {
    "papermill": {
     "duration": 0.014926,
     "end_time": "2022-12-17T18:45:53.433275",
     "exception": false,
     "start_time": "2022-12-17T18:45:53.418349",
     "status": "completed"
    },
    "tags": []
   },
   "source": [
    "#### Correlação entre as features e o target \n",
    "\n",
    "Através do heatmap, podemos entender a correlação entre as variáveis explicativas e o target ('MEDV'), sendo elas positivas ou negativas"
   ]
  },
  {
   "cell_type": "code",
   "execution_count": 9,
   "id": "9815a26e",
   "metadata": {
    "execution": {
     "iopub.execute_input": "2022-12-17T18:45:53.458991Z",
     "iopub.status.busy": "2022-12-17T18:45:53.457795Z",
     "iopub.status.idle": "2022-12-17T18:45:53.859992Z",
     "shell.execute_reply": "2022-12-17T18:45:53.858637Z"
    },
    "papermill": {
     "duration": 0.417494,
     "end_time": "2022-12-17T18:45:53.862797",
     "exception": false,
     "start_time": "2022-12-17T18:45:53.445303",
     "status": "completed"
    },
    "tags": []
   },
   "outputs": [
    {
     "data": {
      "image/png": "[encoded data removed]",
      "text/plain": [
       "<Figure size 576x432 with 2 Axes>"
      ]
     },
     "metadata": {},
     "output_type": "display_data"
    }
   ],
   "source": [
    "fig, ax = plt.subplots(figsize = (8,6))\n",
    "ax = sns.heatmap(boston.corr(), fmt = '.2g', cmap = 'Purples', annot= True)\n",
    "# annot é True para imprimeir os valores dentro do quadrado\n",
    "plt.tight_layout()"
   ]
  },
  {
   "cell_type": "markdown",
   "id": "512d8998",
   "metadata": {
    "papermill": {
     "duration": 0.01098,
     "end_time": "2022-12-17T18:45:53.885328",
     "exception": false,
     "start_time": "2022-12-17T18:45:53.874348",
     "status": "completed"
    },
    "tags": []
   },
   "source": [
    "As maiores correalações, seja positiva ou negativa, apresentadas foram entre a variável RM e MEDV (target), cujo valor é de 0,7, e entre as as variávels RM e LSTAT com valor de -0,76.\n",
    "\n",
    "Para ajustar um **modelo de Regressão Linear**, os recursos que têm alta correlação com nossa variável target são os melhores a serem selecionados. Um ponto importante na seleção de recursos para um modelo RL é verificar a **multicolinearidade**, ou seja, variáveis que são fortemente correlacionadas entre si (por exemplo, com correlação acima de 0,9). Quando ocorre isso, não devemos selecionar essas variáveis de forma conjunta para treinar o modelo. \n",
    "\n",
    "Neste caso, iremos selecionar as features com maior correlação (RM e LSTAT), pois acredito que a variável PTRATIO não irá agregar ao modelo em questão,porém se deixássemos talvez não teria tanta alteração. Em casos que há muitas features, a escolha certa delas implica mais no sucesso do modelo."
   ]
  },
  {
   "cell_type": "code",
   "execution_count": 10,
   "id": "901309c8",
   "metadata": {
    "execution": {
     "iopub.execute_input": "2022-12-17T18:45:53.910126Z",
     "iopub.status.busy": "2022-12-17T18:45:53.909713Z",
     "iopub.status.idle": "2022-12-17T18:45:53.922234Z",
     "shell.execute_reply": "2022-12-17T18:45:53.921418Z"
    },
    "papermill": {
     "duration": 0.027418,
     "end_time": "2022-12-17T18:45:53.924180",
     "exception": false,
     "start_time": "2022-12-17T18:45:53.896762",
     "status": "completed"
    },
    "tags": []
   },
   "outputs": [
    {
     "data": {
      "text/html": [
       "<div>\n",
       "<style scoped>\n",
       "    .dataframe tbody tr th:only-of-type {\n",
       "        vertical-align: middle;\n",
       "    }\n",
       "\n",
       "    .dataframe tbody tr th {\n",
       "        vertical-align: top;\n",
       "    }\n",
       "\n",
       "    .dataframe thead th {\n",
       "        text-align: right;\n",
       "    }\n",
       "</style>\n",
       "<table border=\"1\" class=\"dataframe\">\n",
       "  <thead>\n",
       "    <tr style=\"text-align: right;\">\n",
       "      <th></th>\n",
       "      <th>RM</th>\n",
       "      <th>LSTAT</th>\n",
       "      <th>MEDV</th>\n",
       "    </tr>\n",
       "  </thead>\n",
       "  <tbody>\n",
       "    <tr>\n",
       "      <th>0</th>\n",
       "      <td>6.575</td>\n",
       "      <td>4.98</td>\n",
       "      <td>504000.0</td>\n",
       "    </tr>\n",
       "    <tr>\n",
       "      <th>1</th>\n",
       "      <td>6.421</td>\n",
       "      <td>9.14</td>\n",
       "      <td>453600.0</td>\n",
       "    </tr>\n",
       "    <tr>\n",
       "      <th>2</th>\n",
       "      <td>7.185</td>\n",
       "      <td>4.03</td>\n",
       "      <td>728700.0</td>\n",
       "    </tr>\n",
       "    <tr>\n",
       "      <th>3</th>\n",
       "      <td>6.998</td>\n",
       "      <td>2.94</td>\n",
       "      <td>701400.0</td>\n",
       "    </tr>\n",
       "    <tr>\n",
       "      <th>4</th>\n",
       "      <td>7.147</td>\n",
       "      <td>5.33</td>\n",
       "      <td>760200.0</td>\n",
       "    </tr>\n",
       "  </tbody>\n",
       "</table>\n",
       "</div>"
      ],
      "text/plain": [
       "      RM  LSTAT      MEDV\n",
       "0  6.575   4.98  504000.0\n",
       "1  6.421   9.14  453600.0\n",
       "2  7.185   4.03  728700.0\n",
       "3  6.998   2.94  701400.0\n",
       "4  7.147   5.33  760200.0"
      ]
     },
     "execution_count": 10,
     "metadata": {},
     "output_type": "execute_result"
    }
   ],
   "source": [
    "# Excluíndo a variável PTRATIO\n",
    "new_boston = boston.drop(columns=['PTRATIO'])\n",
    "new_boston.head()"
   ]
  },
  {
   "cell_type": "code",
   "execution_count": 11,
   "id": "8b95f4d6",
   "metadata": {
    "execution": {
     "iopub.execute_input": "2022-12-17T18:45:53.950254Z",
     "iopub.status.busy": "2022-12-17T18:45:53.948980Z",
     "iopub.status.idle": "2022-12-17T18:45:56.129094Z",
     "shell.execute_reply": "2022-12-17T18:45:56.128095Z"
    },
    "papermill": {
     "duration": 2.196022,
     "end_time": "2022-12-17T18:45:56.132104",
     "exception": false,
     "start_time": "2022-12-17T18:45:53.936082",
     "status": "completed"
    },
    "tags": []
   },
   "outputs": [
    {
     "data": {
      "text/plain": [
       "<seaborn.axisgrid.PairGrid at 0x7f1d68835690>"
      ]
     },
     "execution_count": 11,
     "metadata": {},
     "output_type": "execute_result"
    },
    {
     "data": {
      "image/png": "[encoded data removed]",
      "text/plain": [
       "<Figure size 540x540 with 12 Axes>"
      ]
     },
     "metadata": {},
     "output_type": "display_data"
    }
   ],
   "source": [
    "# Gráficos de dispersão para vermos como as features e target se comportam \n",
    "sns.pairplot(new_boston)"
   ]
  },
  {
   "cell_type": "markdown",
   "id": "b86de432",
   "metadata": {
    "papermill": {
     "duration": 0.012841,
     "end_time": "2022-12-17T18:45:56.158750",
     "exception": false,
     "start_time": "2022-12-17T18:45:56.145909",
     "status": "completed"
    },
    "tags": []
   },
   "source": [
    "Podemos tirar algumas conclusões:\n",
    "\n",
    "* O preço aumenta à medida que o valor de RM aumenta linearmente. Existem poucos outliers e os dados parecem estar limitados a 50. \n",
    "\n",
    "* Os preços tendem a diminuir com o aumento do LSTAT. Embora não pareça seguir exatamente uma linha linear. \n",
    "\n",
    "* E podemos observar de forma linear que quanto menor o LSTAT maior é o RM."
   ]
  },
  {
   "cell_type": "markdown",
   "id": "bc182f2f",
   "metadata": {
    "papermill": {
     "duration": 0.01279,
     "end_time": "2022-12-17T18:45:56.184782",
     "exception": false,
     "start_time": "2022-12-17T18:45:56.171992",
     "status": "completed"
    },
    "tags": []
   },
   "source": [
    "## Modelo de Machine Learning\n",
    "\n",
    "A **Regressão Linear** pode ser definida como uma equação que visa estimar o valor esperado de uma variável y, dados alguns valores de outras variáveis x. A mesma considera que as relações existentes entre as variáveis dependentes e as de entradas são lineares, do tipo y = mx + b. Neste caso, o valor de y é o que queremos prever, m é um coeficiente angular, x é o valor de uma dada coluna, e b* é uma constante.\n",
    "\n",
    "É um **modelo preditivo** usado para modelar a relação linear entre a variável target contínua e variáveis preditoras que podem ser contínuas ou categóricas.\n",
    "\n",
    "Para avaliarmos a qualidade do modelo, podemos usar as medidas de **R²**, que irá nos dizer quantos porcentos da variação dos dados pode ser explicada pelas variáveis preditoras.\n",
    "\n",
    "Outra medida de ajuste presente é o **RMSE** (root mean squared error) que é a medida que calcula \"a raiz quadrática média\" dos erros entre valores observados (reais) e predições (hipóteses). \n",
    "\n",
    "Uma característica do RMSE é que os erros (reais - predições) são elevados ao quadrado antes de ter a média calculada. Portanto, pesos diferentes serão atribuídos à soma e, conforme os valores de erros das instâncias aumentam o índice do RMSE aumenta consideravelmente. Ou seja, se houver um outlier no conjunto de dados, seu peso será maior para o cálculo do RMSE e, por conseguinte, prejudicará sua métrica deixando-a maior."
   ]
  },
  {
   "cell_type": "markdown",
   "id": "53500513",
   "metadata": {
    "papermill": {
     "duration": 0.012768,
     "end_time": "2022-12-17T18:45:56.210658",
     "exception": false,
     "start_time": "2022-12-17T18:45:56.197890",
     "status": "completed"
    },
    "tags": []
   },
   "source": [
    "#### Divisão do conjunto de dados \n",
    "\n",
    "Por nesse caso se tratar de apenas um dataset para aplicar o modelo de machine learning, se faz necessário dividir uma porcentagem em treino e outra porcentagem menor em teste. "
   ]
  },
  {
   "cell_type": "markdown",
   "id": "322637f1",
   "metadata": {
    "papermill": {
     "duration": 0.012897,
     "end_time": "2022-12-17T18:45:56.236752",
     "exception": false,
     "start_time": "2022-12-17T18:45:56.223855",
     "status": "completed"
    },
    "tags": []
   },
   "source": [
    "Antes disso, devemos dividir nosso dataset em X e Y, sendo X contendo apenas as features e Y contendo a variável target. "
   ]
  },
  {
   "cell_type": "code",
   "execution_count": 12,
   "id": "7fc10e58",
   "metadata": {
    "execution": {
     "iopub.execute_input": "2022-12-17T18:45:56.264397Z",
     "iopub.status.busy": "2022-12-17T18:45:56.264000Z",
     "iopub.status.idle": "2022-12-17T18:45:56.269924Z",
     "shell.execute_reply": "2022-12-17T18:45:56.268678Z"
    },
    "papermill": {
     "duration": 0.022412,
     "end_time": "2022-12-17T18:45:56.272172",
     "exception": false,
     "start_time": "2022-12-17T18:45:56.249760",
     "status": "completed"
    },
    "tags": []
   },
   "outputs": [],
   "source": [
    "X = new_boston.iloc[:,0:2]\n",
    "Y = new_boston.iloc[:,2]"
   ]
  },
  {
   "cell_type": "code",
   "execution_count": 13,
   "id": "30f90ac0",
   "metadata": {
    "execution": {
     "iopub.execute_input": "2022-12-17T18:45:56.300739Z",
     "iopub.status.busy": "2022-12-17T18:45:56.300009Z",
     "iopub.status.idle": "2022-12-17T18:45:56.314767Z",
     "shell.execute_reply": "2022-12-17T18:45:56.313499Z"
    },
    "papermill": {
     "duration": 0.0323,
     "end_time": "2022-12-17T18:45:56.317542",
     "exception": false,
     "start_time": "2022-12-17T18:45:56.285242",
     "status": "completed"
    },
    "tags": []
   },
   "outputs": [
    {
     "data": {
      "text/html": [
       "<div>\n",
       "<style scoped>\n",
       "    .dataframe tbody tr th:only-of-type {\n",
       "        vertical-align: middle;\n",
       "    }\n",
       "\n",
       "    .dataframe tbody tr th {\n",
       "        vertical-align: top;\n",
       "    }\n",
       "\n",
       "    .dataframe thead th {\n",
       "        text-align: right;\n",
       "    }\n",
       "</style>\n",
       "<table border=\"1\" class=\"dataframe\">\n",
       "  <thead>\n",
       "    <tr style=\"text-align: right;\">\n",
       "      <th></th>\n",
       "      <th>RM</th>\n",
       "      <th>LSTAT</th>\n",
       "    </tr>\n",
       "  </thead>\n",
       "  <tbody>\n",
       "    <tr>\n",
       "      <th>0</th>\n",
       "      <td>6.575</td>\n",
       "      <td>4.98</td>\n",
       "    </tr>\n",
       "    <tr>\n",
       "      <th>1</th>\n",
       "      <td>6.421</td>\n",
       "      <td>9.14</td>\n",
       "    </tr>\n",
       "    <tr>\n",
       "      <th>2</th>\n",
       "      <td>7.185</td>\n",
       "      <td>4.03</td>\n",
       "    </tr>\n",
       "    <tr>\n",
       "      <th>3</th>\n",
       "      <td>6.998</td>\n",
       "      <td>2.94</td>\n",
       "    </tr>\n",
       "    <tr>\n",
       "      <th>4</th>\n",
       "      <td>7.147</td>\n",
       "      <td>5.33</td>\n",
       "    </tr>\n",
       "    <tr>\n",
       "      <th>...</th>\n",
       "      <td>...</td>\n",
       "      <td>...</td>\n",
       "    </tr>\n",
       "    <tr>\n",
       "      <th>484</th>\n",
       "      <td>6.593</td>\n",
       "      <td>9.67</td>\n",
       "    </tr>\n",
       "    <tr>\n",
       "      <th>485</th>\n",
       "      <td>6.120</td>\n",
       "      <td>9.08</td>\n",
       "    </tr>\n",
       "    <tr>\n",
       "      <th>486</th>\n",
       "      <td>6.976</td>\n",
       "      <td>5.64</td>\n",
       "    </tr>\n",
       "    <tr>\n",
       "      <th>487</th>\n",
       "      <td>6.794</td>\n",
       "      <td>6.48</td>\n",
       "    </tr>\n",
       "    <tr>\n",
       "      <th>488</th>\n",
       "      <td>6.030</td>\n",
       "      <td>7.88</td>\n",
       "    </tr>\n",
       "  </tbody>\n",
       "</table>\n",
       "<p>489 rows × 2 columns</p>\n",
       "</div>"
      ],
      "text/plain": [
       "        RM  LSTAT\n",
       "0    6.575   4.98\n",
       "1    6.421   9.14\n",
       "2    7.185   4.03\n",
       "3    6.998   2.94\n",
       "4    7.147   5.33\n",
       "..     ...    ...\n",
       "484  6.593   9.67\n",
       "485  6.120   9.08\n",
       "486  6.976   5.64\n",
       "487  6.794   6.48\n",
       "488  6.030   7.88\n",
       "\n",
       "[489 rows x 2 columns]"
      ]
     },
     "execution_count": 13,
     "metadata": {},
     "output_type": "execute_result"
    }
   ],
   "source": [
    "# Dataset apenas com features\n",
    "X"
   ]
  },
  {
   "cell_type": "code",
   "execution_count": 14,
   "id": "7575c690",
   "metadata": {
    "execution": {
     "iopub.execute_input": "2022-12-17T18:45:56.346522Z",
     "iopub.status.busy": "2022-12-17T18:45:56.345628Z",
     "iopub.status.idle": "2022-12-17T18:45:56.354859Z",
     "shell.execute_reply": "2022-12-17T18:45:56.353841Z"
    },
    "papermill": {
     "duration": 0.026033,
     "end_time": "2022-12-17T18:45:56.357007",
     "exception": false,
     "start_time": "2022-12-17T18:45:56.330974",
     "status": "completed"
    },
    "tags": []
   },
   "outputs": [
    {
     "data": {
      "text/plain": [
       "0      504000.0\n",
       "1      453600.0\n",
       "2      728700.0\n",
       "3      701400.0\n",
       "4      760200.0\n",
       "         ...   \n",
       "484    470400.0\n",
       "485    432600.0\n",
       "486    501900.0\n",
       "487    462000.0\n",
       "488    249900.0\n",
       "Name: MEDV, Length: 489, dtype: float64"
      ]
     },
     "execution_count": 14,
     "metadata": {},
     "output_type": "execute_result"
    }
   ],
   "source": [
    "# Dataset apenas com target\n",
    "Y"
   ]
  },
  {
   "cell_type": "code",
   "execution_count": 15,
   "id": "c8999da9",
   "metadata": {
    "execution": {
     "iopub.execute_input": "2022-12-17T18:45:56.385757Z",
     "iopub.status.busy": "2022-12-17T18:45:56.385044Z",
     "iopub.status.idle": "2022-12-17T18:45:56.563389Z",
     "shell.execute_reply": "2022-12-17T18:45:56.562443Z"
    },
    "papermill": {
     "duration": 0.195358,
     "end_time": "2022-12-17T18:45:56.565892",
     "exception": false,
     "start_time": "2022-12-17T18:45:56.370534",
     "status": "completed"
    },
    "tags": []
   },
   "outputs": [],
   "source": [
    "# Biblioteca para separar o conjunto de dados\n",
    "from sklearn.model_selection import train_test_split\n",
    "\n",
    "# Separando o conjunto de dados em treino e teste\n",
    "X_train, X_test, y_train, y_test = train_test_split(X, Y, test_size=0.2, random_state=10)"
   ]
  },
  {
   "cell_type": "code",
   "execution_count": 16,
   "id": "12866159",
   "metadata": {
    "execution": {
     "iopub.execute_input": "2022-12-17T18:45:56.594947Z",
     "iopub.status.busy": "2022-12-17T18:45:56.593897Z",
     "iopub.status.idle": "2022-12-17T18:45:56.599914Z",
     "shell.execute_reply": "2022-12-17T18:45:56.598506Z"
    },
    "papermill": {
     "duration": 0.022949,
     "end_time": "2022-12-17T18:45:56.602254",
     "exception": false,
     "start_time": "2022-12-17T18:45:56.579305",
     "status": "completed"
    },
    "tags": []
   },
   "outputs": [
    {
     "name": "stdout",
     "output_type": "stream",
     "text": [
      "(391, 2)\n",
      "(391,)\n"
     ]
    }
   ],
   "source": [
    "# Como ficou a quantidade na divisão de treino\n",
    "print(X_train.shape)\n",
    "print(y_train.shape)"
   ]
  },
  {
   "cell_type": "code",
   "execution_count": 17,
   "id": "946c639f",
   "metadata": {
    "execution": {
     "iopub.execute_input": "2022-12-17T18:45:56.631485Z",
     "iopub.status.busy": "2022-12-17T18:45:56.630311Z",
     "iopub.status.idle": "2022-12-17T18:45:56.637202Z",
     "shell.execute_reply": "2022-12-17T18:45:56.635711Z"
    },
    "papermill": {
     "duration": 0.024068,
     "end_time": "2022-12-17T18:45:56.639852",
     "exception": false,
     "start_time": "2022-12-17T18:45:56.615784",
     "status": "completed"
    },
    "tags": []
   },
   "outputs": [
    {
     "name": "stdout",
     "output_type": "stream",
     "text": [
      "(98, 2)\n",
      "(98,)\n"
     ]
    }
   ],
   "source": [
    "# Como ficou a quantidade na divisão de teste\n",
    "print(X_test.shape)\n",
    "print(y_test.shape)"
   ]
  },
  {
   "cell_type": "markdown",
   "id": "a113ea2e",
   "metadata": {
    "papermill": {
     "duration": 0.013244,
     "end_time": "2022-12-17T18:45:56.666764",
     "exception": false,
     "start_time": "2022-12-17T18:45:56.653520",
     "status": "completed"
    },
    "tags": []
   },
   "source": [
    "## Regressão Linear "
   ]
  },
  {
   "cell_type": "code",
   "execution_count": 18,
   "id": "76982e19",
   "metadata": {
    "execution": {
     "iopub.execute_input": "2022-12-17T18:45:56.696040Z",
     "iopub.status.busy": "2022-12-17T18:45:56.695196Z",
     "iopub.status.idle": "2022-12-17T18:45:56.772535Z",
     "shell.execute_reply": "2022-12-17T18:45:56.771195Z"
    },
    "papermill": {
     "duration": 0.095234,
     "end_time": "2022-12-17T18:45:56.775556",
     "exception": false,
     "start_time": "2022-12-17T18:45:56.680322",
     "status": "completed"
    },
    "tags": []
   },
   "outputs": [],
   "source": [
    "# Importando bibliotecas da Regressão Linear e suas métricas\n",
    "from sklearn.linear_model import LinearRegression\n",
    "from sklearn.metrics import mean_squared_error, r2_score"
   ]
  },
  {
   "cell_type": "code",
   "execution_count": 19,
   "id": "ba72cc71",
   "metadata": {
    "execution": {
     "iopub.execute_input": "2022-12-17T18:45:56.804550Z",
     "iopub.status.busy": "2022-12-17T18:45:56.804153Z",
     "iopub.status.idle": "2022-12-17T18:45:56.824815Z",
     "shell.execute_reply": "2022-12-17T18:45:56.823815Z"
    },
    "papermill": {
     "duration": 0.037776,
     "end_time": "2022-12-17T18:45:56.827045",
     "exception": false,
     "start_time": "2022-12-17T18:45:56.789269",
     "status": "completed"
    },
    "tags": []
   },
   "outputs": [
    {
     "data": {
      "text/plain": [
       "LinearRegression()"
      ]
     },
     "execution_count": 19,
     "metadata": {},
     "output_type": "execute_result"
    }
   ],
   "source": [
    "# Instanciando o modelo \n",
    "lr = LinearRegression ()\n",
    "\n",
    "# Treinando o modelo\n",
    "lr.fit(X_train, y_train)"
   ]
  },
  {
   "cell_type": "code",
   "execution_count": 20,
   "id": "3ca25d8e",
   "metadata": {
    "execution": {
     "iopub.execute_input": "2022-12-17T18:45:56.856608Z",
     "iopub.status.busy": "2022-12-17T18:45:56.856131Z",
     "iopub.status.idle": "2022-12-17T18:45:56.864839Z",
     "shell.execute_reply": "2022-12-17T18:45:56.863616Z"
    },
    "papermill": {
     "duration": 0.026527,
     "end_time": "2022-12-17T18:45:56.867508",
     "exception": false,
     "start_time": "2022-12-17T18:45:56.840981",
     "status": "completed"
    },
    "tags": []
   },
   "outputs": [],
   "source": [
    "# Predição do modelo de treino\n",
    "y_train_lr_predict = lr.predict(X_train)\n",
    "\n",
    "# Prediçaõ do modelo de teste \n",
    "y_test_lr_predict = lr.predict(X_test)"
   ]
  },
  {
   "cell_type": "markdown",
   "id": "d76dae58",
   "metadata": {
    "papermill": {
     "duration": 0.013094,
     "end_time": "2022-12-17T18:45:56.894221",
     "exception": false,
     "start_time": "2022-12-17T18:45:56.881127",
     "status": "completed"
    },
    "tags": []
   },
   "source": [
    "#### Avaliação do modelo no conjunto de treino"
   ]
  },
  {
   "cell_type": "code",
   "execution_count": 21,
   "id": "5e1e567c",
   "metadata": {
    "execution": {
     "iopub.execute_input": "2022-12-17T18:45:56.923532Z",
     "iopub.status.busy": "2022-12-17T18:45:56.922845Z",
     "iopub.status.idle": "2022-12-17T18:45:56.931422Z",
     "shell.execute_reply": "2022-12-17T18:45:56.930016Z"
    },
    "papermill": {
     "duration": 0.027579,
     "end_time": "2022-12-17T18:45:56.935406",
     "exception": false,
     "start_time": "2022-12-17T18:45:56.907827",
     "status": "completed"
    },
    "tags": []
   },
   "outputs": [
    {
     "name": "stdout",
     "output_type": "stream",
     "text": [
      "Desempenho do modelo de RL para conjunto de treino\n",
      "---------------------------------------------------\n",
      "RMSE do conjunto de teste é 99404.70807449461\n",
      "R2 Score do conjunto de teste é 0.6609362318891483\n"
     ]
    }
   ],
   "source": [
    "rmse_train = np.sqrt(mean_squared_error(y_train, y_train_lr_predict))\n",
    "r2_train = r2_score(y_train, y_train_lr_predict)\n",
    "\n",
    "print(\"Desempenho do modelo de RL para conjunto de treino\")\n",
    "print(\"---------------------------------------------------\")\n",
    "print(\"RMSE do conjunto de teste é {}\".format(rmse_train))\n",
    "print(\"R2 Score do conjunto de teste é {}\".format(r2_train))"
   ]
  },
  {
   "cell_type": "markdown",
   "id": "f961b1a9",
   "metadata": {
    "papermill": {
     "duration": 0.013409,
     "end_time": "2022-12-17T18:45:56.962989",
     "exception": false,
     "start_time": "2022-12-17T18:45:56.949580",
     "status": "completed"
    },
    "tags": []
   },
   "source": [
    "#### Avaliando o modelo no conjunto de teste "
   ]
  },
  {
   "cell_type": "code",
   "execution_count": 22,
   "id": "c0ef32ac",
   "metadata": {
    "execution": {
     "iopub.execute_input": "2022-12-17T18:45:56.993241Z",
     "iopub.status.busy": "2022-12-17T18:45:56.992211Z",
     "iopub.status.idle": "2022-12-17T18:45:56.999919Z",
     "shell.execute_reply": "2022-12-17T18:45:56.998827Z"
    },
    "papermill": {
     "duration": 0.025435,
     "end_time": "2022-12-17T18:45:57.002584",
     "exception": false,
     "start_time": "2022-12-17T18:45:56.977149",
     "status": "completed"
    },
    "tags": []
   },
   "outputs": [
    {
     "name": "stdout",
     "output_type": "stream",
     "text": [
      "Desempenho do modelo de RL para conjunto de treino\n",
      "---------------------------------------------------\n",
      "RMSE do conjunto de teste é 79632.34440216917\n",
      "R2 Score do conjunto de teste é 0.6805688443016455\n"
     ]
    }
   ],
   "source": [
    "rmse_test = np.sqrt(mean_squared_error(y_test, y_test_lr_predict))\n",
    "r2_test = r2_score(y_test, y_test_lr_predict)\n",
    "\n",
    "print(\"Desempenho do modelo de RL para conjunto de treino\")\n",
    "print(\"---------------------------------------------------\")\n",
    "print(\"RMSE do conjunto de teste é {}\".format(rmse_test))\n",
    "print(\"R2 Score do conjunto de teste é {}\".format(r2_test))"
   ]
  },
  {
   "cell_type": "markdown",
   "id": "2cb7ff7c",
   "metadata": {
    "papermill": {
     "duration": 0.013389,
     "end_time": "2022-12-17T18:45:57.029921",
     "exception": false,
     "start_time": "2022-12-17T18:45:57.016532",
     "status": "completed"
    },
    "tags": []
   },
   "source": [
    "#### Comparação entre os valores de teste e os valores previstos da variável target "
   ]
  },
  {
   "cell_type": "code",
   "execution_count": 23,
   "id": "2c5fbd71",
   "metadata": {
    "execution": {
     "iopub.execute_input": "2022-12-17T18:45:57.060049Z",
     "iopub.status.busy": "2022-12-17T18:45:57.059657Z",
     "iopub.status.idle": "2022-12-17T18:45:57.069897Z",
     "shell.execute_reply": "2022-12-17T18:45:57.068578Z"
    },
    "papermill": {
     "duration": 0.02863,
     "end_time": "2022-12-17T18:45:57.072666",
     "exception": false,
     "start_time": "2022-12-17T18:45:57.044036",
     "status": "completed"
    },
    "tags": []
   },
   "outputs": [
    {
     "name": "stdout",
     "output_type": "stream",
     "text": [
      "        Atual        Predito\n",
      "172  487200.0  472367.908147\n",
      "107  428400.0  433158.534592\n",
      "208  525000.0  495321.185364\n",
      "212  483000.0  500345.457275\n",
      "314  516600.0  572666.141073\n",
      "..        ...            ...\n",
      "114  388500.0  489907.807527\n",
      "447  449400.0  451520.114584\n",
      "227  504000.0  468990.454770\n",
      "184  732900.0  638884.550610\n",
      "260  443100.0  421443.207231\n",
      "\n",
      "[98 rows x 2 columns]\n"
     ]
    }
   ],
   "source": [
    "# Valores atuais no dataset e valores previstos \n",
    "lr_compare = pd.DataFrame({'Atual': y_test, 'Predito': y_test_lr_predict})\n",
    "print(lr_compare)"
   ]
  },
  {
   "cell_type": "code",
   "execution_count": 24,
   "id": "7f2ca175",
   "metadata": {
    "execution": {
     "iopub.execute_input": "2022-12-17T18:45:57.103781Z",
     "iopub.status.busy": "2022-12-17T18:45:57.102512Z",
     "iopub.status.idle": "2022-12-17T18:45:57.549079Z",
     "shell.execute_reply": "2022-12-17T18:45:57.547983Z"
    },
    "papermill": {
     "duration": 0.464475,
     "end_time": "2022-12-17T18:45:57.551711",
     "exception": false,
     "start_time": "2022-12-17T18:45:57.087236",
     "status": "completed"
    },
    "tags": []
   },
   "outputs": [
    {
     "data": {
      "image/png": "[encoded data removed]",
      "text/plain": [
       "<Figure size 1080x360 with 1 Axes>"
      ]
     },
     "metadata": {},
     "output_type": "display_data"
    }
   ],
   "source": [
    "# Gráfico comparativo entre os valores \n",
    "(lr_compare.head(10)).plot(kind='bar', figsize=(15,5))\n",
    "plt.show()"
   ]
  },
  {
   "cell_type": "markdown",
   "id": "09c4437a",
   "metadata": {
    "papermill": {
     "duration": 0.013819,
     "end_time": "2022-12-17T18:45:57.579864",
     "exception": false,
     "start_time": "2022-12-17T18:45:57.566045",
     "status": "completed"
    },
    "tags": []
   },
   "source": [
    "Podemos observar que a variância entre os valores atuais e os valores previstos em alguns casos está mais divergente que outros, mas em maioria a predição foi bem próxima. \n",
    "\n",
    "Sendo assim, podemos considerar que **o modelo de Regressão Linear teve um bom resultado para o dataset em questão**. "
   ]
  }
 ],
 "metadata": {
  "kernelspec": {
   "display_name": "Python 3",
   "language": "python",
   "name": "python3"
  },
  "language_info": {
   "codemirror_mode": {
    "name": "ipython",
    "version": 3
   },
   "file_extension": ".py",
   "mimetype": "text/x-python",
   "name": "python",
   "nbconvert_exporter": "python",
   "pygments_lexer": "ipython3",
   "version": "3.7.12"
  },
  "papermill": {
   "default_parameters": {},
   "duration": 15.560947,
   "end_time": "2022-12-17T18:45:58.417139",
   "environment_variables": {},
   "exception": null,
   "input_path": "__notebook__.ipynb",
   "output_path": "__notebook__.ipynb",
   "parameters": {},
   "start_time": "2022-12-17T18:45:42.856192",
   "version": "2.3.4"
  }
 },
 "nbformat": 4,
 "nbformat_minor": 5
}
